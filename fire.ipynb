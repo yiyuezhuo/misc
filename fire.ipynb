{
 "cells": [
  {
   "cell_type": "markdown",
   "metadata": {},
   "source": [
    "请运用所学知识，在二维纵向平面内，建立直线弹道拦截抛物线运动目标模型，并求解命中问题，要求。\n",
    "\n",
    "1. 请列出目标抛物线运动方程具体表达式，目标发射射速v0=300m/s,射角0=30degree.(可自行设定v0,0)\n",
    "2. 武器直线弹道飞行速度vw=600m/s，武器目标相对初始位置可自己设定。\n",
    "3. 编写并附上主要程序代码（推荐使用MatLab）。\n",
    "4. 合理选择一组参数进行数值仿真计算，给出相关仿真曲线和计算数据。\n"
   ]
  },
  {
   "cell_type": "code",
   "execution_count": 2,
   "metadata": {},
   "outputs": [],
   "source": [
    "import numpy as np\n",
    "import matplotlib.pyplot as plt\n",
    "\n",
    "%matplotlib inline"
   ]
  },
  {
   "cell_type": "markdown",
   "metadata": {},
   "source": [
    "基本的思路是把原点设在射击原点，然后另外某个地方发射目标，它那速度和射角给定后得到的曲线自然是个抛物线。加个原点位移就可以得到那些曲线。\n",
    "当然曲线本身没什么用，因为我们要恰好在某个时间与其相交，这引出两个方法，第一我们可以确定我们的发射角定出的曲线于其的交点（如果有）\n",
    "对应的t是不是一样的，不是一样的就无解，这个事情可以直接写到方程里。\n",
    "\n",
    "$$\n",
    "\\begin{aligned}\n",
    "y &= 600\\sin(\\theta)t-\\frac{1}{2}gt^2 \\\\\n",
    "x &= 600\\cos(\\theta)t \\\\\n",
    "y &= 300\\sin(\\pi/6)t - \\frac{1}{2}gt^2 + y_0 \\\\\n",
    "x &= -300\\cos(\\pi/6)t + x_0\n",
    "\\end{aligned}\n",
    "$$\n",
    "\n",
    "看上去复杂，然而联立起来看比较简单。\n",
    "\n",
    "$$\n",
    "\\begin{align*}\n",
    "300\\sin(\\pi/6)t - \\frac{1}{2}gt^2 + y_0 &= 600\\sin(\\theta)t-\\frac{1}{2}gt^2 \\\\\n",
    "-300\\cos(\\pi/6)t + x_0 &= 600\\cos(\\theta)t \\\\\n",
    "\\end{align*}\n",
    "$$\n",
    "\n",
    "化简\n",
    "\n",
    "$$\n",
    "\\begin{align*}\n",
    "300\\sin(\\pi/6)t + y_0 &= 600\\sin(\\theta)t \\\\\n",
    "-300\\cos(\\pi/6)t + x_0 &= 600\\cos(\\theta)t \\\\\n",
    "\\end{align*}\n",
    "$$\n",
    "\n",
    "求比\n",
    "\n",
    "$$\n",
    "\\frac{300\\sin(\\pi/6)t + y_0}{-300\\cos(\\pi/6)t + x_0} = \\frac{600\\sin(\\theta)t}{600\\cos(\\theta)t}=\\tan(\\theta) \n",
    "$$\n",
    "\n",
    "从而\n",
    "\n",
    "$$\n",
    "\\theta = \\arctan\\left( \\frac{300\\sin(\\pi/6)t + y_0}{-300\\cos(\\pi/6)t + x_0} \\right)\n",
    "$$\n",
    "\n",
    "这个$t$可以代进$\\frac{x_0}{300\\cos(\\pi/6)+600\\cos(\\theta)}$之类的，当然结果看起来像是个超越方程，考虑其有没有解之类的边缘条件\n",
    "也比较复杂，很难想象它怎么会有简单的解析解。"
   ]
  },
  {
   "cell_type": "code",
   "execution_count": 4,
   "metadata": {},
   "outputs": [],
   "source": [
    "from scipy.optimize import root"
   ]
  },
  {
   "cell_type": "code",
   "execution_count": 8,
   "metadata": {},
   "outputs": [
    {
     "data": {
      "text/plain": [
       "    fjac: array([[ 0.00900053, -0.99995949],\n",
       "       [ 0.99995949,  0.00900053]])\n",
       "     fun: array([ 1.74225079e-11, -9.09494702e-12])\n",
       " message: 'The solution converged.'\n",
       "    nfev: 13\n",
       "     qtf: array([-1.93056913e-08, -3.57432911e-08])\n",
       "       r: array([ 844.82298966, -183.53063474, -687.33393932])\n",
       "  status: 1\n",
       " success: True\n",
       "       x: array([1.18940697, 0.25268026])"
      ]
     },
     "execution_count": 8,
     "metadata": {},
     "output_type": "execute_result"
    }
   ],
   "source": [
    "x0=1000.0\n",
    "y0=0.0\n",
    "\n",
    "def func(p):\n",
    "    t, theta = p\n",
    "    return [300*np.sin(np.pi/6)*t+y0 - 600*np.sin(theta)*t,\n",
    "            -300*np.cos(np.pi/6)*t+x0- 600*np.cos(theta)*t]\n",
    "\n",
    "res=root(func, [1.0,1.0])\n",
    "res"
   ]
  },
  {
   "cell_type": "code",
   "execution_count": 9,
   "metadata": {},
   "outputs": [
    {
     "data": {
      "text/plain": [
       "[1.7422507880837657e-11, -9.094947017729282e-12]"
      ]
     },
     "execution_count": 9,
     "metadata": {},
     "output_type": "execute_result"
    }
   ],
   "source": [
    "func(res.x)"
   ]
  },
  {
   "cell_type": "code",
   "execution_count": 20,
   "metadata": {},
   "outputs": [
    {
     "data": {
      "text/plain": [
       "(1.1894069659103053, 0.2526802551420534)"
      ]
     },
     "execution_count": 20,
     "metadata": {},
     "output_type": "execute_result"
    }
   ],
   "source": [
    "t, theta = res.x\n",
    "t,theta"
   ]
  },
  {
   "cell_type": "code",
   "execution_count": 11,
   "metadata": {},
   "outputs": [
    {
     "data": {
      "text/plain": [
       "(178.41104488654577, 178.41104488652834)"
      ]
     },
     "execution_count": 11,
     "metadata": {},
     "output_type": "execute_result"
    }
   ],
   "source": [
    "300*np.sin(np.pi/6)*t+y0,600*np.sin(theta)*t"
   ]
  },
  {
   "cell_type": "code",
   "execution_count": 12,
   "metadata": {},
   "outputs": [
    {
     "data": {
      "text/plain": [
       "(690.9830056250512, 690.9830056250603)"
      ]
     },
     "execution_count": 12,
     "metadata": {},
     "output_type": "execute_result"
    }
   ],
   "source": [
    "-300*np.cos(np.pi/6)*t+x0,600*np.cos(theta)*t"
   ]
  },
  {
   "cell_type": "code",
   "execution_count": 23,
   "metadata": {},
   "outputs": [
    {
     "data": {
      "text/plain": [
       "<matplotlib.legend.Legend at 0x1d6f03b4a90>"
      ]
     },
     "execution_count": 23,
     "metadata": {},
     "output_type": "execute_result"
    },
    {
     "data": {
      "image/png": "[encoded data removed]",
      "text/plain": [
       "<Figure size 432x288 with 1 Axes>"
      ]
     },
     "metadata": {},
     "output_type": "display_data"
    }
   ],
   "source": [
    "T = np.linspace(0,t*1,100)\n",
    "g = 9.8\n",
    "plt.plot(-300*np.cos(np.pi/6)*T+x0,300*np.sin(np.pi/6)*T-0.5*g*T**2+y0,label=\"target\")\n",
    "plt.plot(600*np.cos(theta)*T, 600*np.sin(theta)*T-0.5*g*T**2,label='gun')\n",
    "plt.legend()"
   ]
  },
  {
   "cell_type": "code",
   "execution_count": 24,
   "metadata": {},
   "outputs": [
    {
     "data": {
      "text/plain": [
       "    fjac: array([[ 0.07150759, -0.99744006],\n",
       "       [ 0.99744006,  0.07150759]])\n",
       "     fun: array([4.31055014e-09, 2.51020538e-09])\n",
       " message: 'The solution converged.'\n",
       "    nfev: 26\n",
       "     qtf: array([ 2.10093561e-06, -4.26899933e-06])\n",
       "       r: array([  809.11885685, -2073.15307951, -7173.39283336])\n",
       "  status: 1\n",
       " success: True\n",
       "       x: array([11.89406966,  0.25268026])"
      ]
     },
     "execution_count": 24,
     "metadata": {},
     "output_type": "execute_result"
    }
   ],
   "source": [
    "x0=10000.0\n",
    "y0=0.0\n",
    "\n",
    "def func(p):\n",
    "    t, theta = p\n",
    "    return [300*np.sin(np.pi/6)*t+y0 - 600*np.sin(theta)*t,\n",
    "            -300*np.cos(np.pi/6)*t+x0- 600*np.cos(theta)*t]\n",
    "\n",
    "res=root(func, [1.0,1.0])\n",
    "res"
   ]
  },
  {
   "cell_type": "code",
   "execution_count": 25,
   "metadata": {},
   "outputs": [
    {
     "data": {
      "text/plain": [
       "(11.894069659098687, 0.25268025514145476)"
      ]
     },
     "execution_count": 25,
     "metadata": {},
     "output_type": "execute_result"
    }
   ],
   "source": [
    "t, theta = res.x\n",
    "t,theta"
   ]
  },
  {
   "cell_type": "code",
   "execution_count": 26,
   "metadata": {},
   "outputs": [
    {
     "data": {
      "text/plain": [
       "<matplotlib.legend.Legend at 0x1d6f00a0f98>"
      ]
     },
     "execution_count": 26,
     "metadata": {},
     "output_type": "execute_result"
    },
    {
     "data": {
      "image/png": "[encoded data removed]",
      "text/plain": [
       "<Figure size 432x288 with 1 Axes>"
      ]
     },
     "metadata": {},
     "output_type": "display_data"
    }
   ],
   "source": [
    "T = np.linspace(0,t*1,100)\n",
    "g = 9.8\n",
    "plt.plot(-300*np.cos(np.pi/6)*T+x0,300*np.sin(np.pi/6)*T-0.5*g*T**2+y0,label=\"target\")\n",
    "plt.plot(600*np.cos(theta)*T, 600*np.sin(theta)*T-0.5*g*T**2,label='gun')\n",
    "plt.legend()"
   ]
  },
  {
   "cell_type": "code",
   "execution_count": 30,
   "metadata": {},
   "outputs": [
    {
     "data": {
      "text/plain": [
       "    fjac: array([[-0.11910839, -0.99288126],\n",
       "       [ 0.99288126, -0.11910839]])\n",
       "     fun: array([-1.39631734e-05,  4.01694342e-06])\n",
       " message: 'The solution converged.'\n",
       "    nfev: 15\n",
       "     qtf: array([0.00035514, 0.00163242])\n",
       "       r: array([   818.33132064,  -1900.33938424, -14166.42053546])\n",
       "  status: 1\n",
       " success: True\n",
       "       x: array([ 23.78813932, -18.59687567])"
      ]
     },
     "execution_count": 30,
     "metadata": {},
     "output_type": "execute_result"
    }
   ],
   "source": [
    "x0=20000.0\n",
    "y0=0.0\n",
    "\n",
    "def func(p):\n",
    "    t, theta = p\n",
    "    return [300*np.sin(np.pi/6)*t+y0 - 600*np.sin(theta)*t,\n",
    "            -300*np.cos(np.pi/6)*t+x0- 600*np.cos(theta)*t]\n",
    "\n",
    "res=root(func, [1.0,1.0])\n",
    "res"
   ]
  },
  {
   "cell_type": "code",
   "execution_count": 31,
   "metadata": {},
   "outputs": [
    {
     "data": {
      "text/plain": [
       "(23.788139317716354, -18.596875665386296)"
      ]
     },
     "execution_count": 31,
     "metadata": {},
     "output_type": "execute_result"
    }
   ],
   "source": [
    "t, theta = res.x\n",
    "t,theta"
   ]
  },
  {
   "cell_type": "code",
   "execution_count": 32,
   "metadata": {},
   "outputs": [
    {
     "data": {
      "text/plain": [
       "<matplotlib.legend.Legend at 0x1d6f14692e8>"
      ]
     },
     "execution_count": 32,
     "metadata": {},
     "output_type": "execute_result"
    },
    {
     "data": {
      "image/png": "[encoded data removed]",
      "text/plain": [
       "<Figure size 432x288 with 1 Axes>"
      ]
     },
     "metadata": {},
     "output_type": "display_data"
    }
   ],
   "source": [
    "T = np.linspace(0,t*1,100)\n",
    "g = 9.8\n",
    "plt.plot(-300*np.cos(np.pi/6)*T+x0,300*np.sin(np.pi/6)*T-0.5*g*T**2+y0,label=\"target\")\n",
    "plt.plot(600*np.cos(theta)*T, 600*np.sin(theta)*T-0.5*g*T**2,label='gun')\n",
    "plt.legend()"
   ]
  },
  {
   "cell_type": "code",
   "execution_count": 39,
   "metadata": {},
   "outputs": [
    {
     "data": {
      "text/plain": [
       "    fjac: array([[ 0.09997878,  0.99498957],\n",
       "       [-0.99498957,  0.09997878]])\n",
       "     fun: array([1.24236976e-09, 4.05452738e-09])\n",
       " message: 'The solution converged.'\n",
       "    nfev: 17\n",
       "     qtf: array([-3.43462148e-06,  7.03478241e-07])\n",
       "       r: array([-819.42466648, 2278.16109384, 7030.46805679])\n",
       "  status: 1\n",
       " success: True\n",
       "       x: array([12.2938478, -5.8873607])"
      ]
     },
     "execution_count": 39,
     "metadata": {},
     "output_type": "execute_result"
    }
   ],
   "source": [
    "x0=10000.0\n",
    "y0=1000.0\n",
    "\n",
    "def func(p):\n",
    "    t, theta = p\n",
    "    return [300*np.sin(np.pi/6)*t+y0 - 600*np.sin(theta)*t,\n",
    "            -300*np.cos(np.pi/6)*t+x0- 600*np.cos(theta)*t]\n",
    "\n",
    "res=root(func, [1.0,1.0])\n",
    "res"
   ]
  },
  {
   "cell_type": "code",
   "execution_count": 40,
   "metadata": {},
   "outputs": [
    {
     "data": {
      "text/plain": [
       "(12.293847800225286, -5.887360703949784)"
      ]
     },
     "execution_count": 40,
     "metadata": {},
     "output_type": "execute_result"
    }
   ],
   "source": [
    "t, theta = res.x\n",
    "t,theta"
   ]
  },
  {
   "cell_type": "code",
   "execution_count": 41,
   "metadata": {},
   "outputs": [
    {
     "data": {
      "text/plain": [
       "<matplotlib.legend.Legend at 0x1d6f15b9940>"
      ]
     },
     "execution_count": 41,
     "metadata": {},
     "output_type": "execute_result"
    },
    {
     "data": {
      "image/png": "[encoded data removed]",
      "text/plain": [
       "<Figure size 432x288 with 1 Axes>"
      ]
     },
     "metadata": {},
     "output_type": "display_data"
    }
   ],
   "source": [
    "T = np.linspace(0,t*1,100)\n",
    "g = 9.8\n",
    "plt.plot(-300*np.cos(np.pi/6)*T+x0,300*np.sin(np.pi/6)*T-0.5*g*T**2+y0,label=\"target\")\n",
    "plt.plot(600*np.cos(theta)*T, 600*np.sin(theta)*T-0.5*g*T**2,label='gun')\n",
    "plt.legend()"
   ]
  },
  {
   "cell_type": "code",
   "execution_count": null,
   "metadata": {},
   "outputs": [],
   "source": []
  }
 ],
 "metadata": {
  "kernelspec": {
   "display_name": "Python 3",
   "language": "python",
   "name": "python3"
  },
  "language_info": {
   "codemirror_mode": {
    "name": "ipython",
    "version": 3
   },
   "file_extension": ".py",
   "mimetype": "text/x-python",
   "name": "python",
   "nbconvert_exporter": "python",
   "pygments_lexer": "ipython3",
   "version": "3.6.5"
  }
 },
 "nbformat": 4,
 "nbformat_minor": 2
}
