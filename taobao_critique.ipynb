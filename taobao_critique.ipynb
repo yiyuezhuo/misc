{
 "cells": [
  {
   "cell_type": "code",
   "execution_count": 1,
   "metadata": {},
   "outputs": [],
   "source": [
    "import numpy as np\n",
    "import matplotlib.pyplot as plt\n",
    "import statsmodels.api as sm\n",
    "import statsmodels.formula.api as smf"
   ]
  },
  {
   "cell_type": "code",
   "execution_count": 3,
   "metadata": {},
   "outputs": [
    {
     "data": {
      "text/plain": [
       "array([[ 1.        ,  1.69004713, -0.74506967],\n",
       "       [ 1.        , -0.66852766,  1.19028309],\n",
       "       [ 1.        , -0.5240313 , -0.09614694],\n",
       "       [ 1.        ,  0.67032022, -0.900015  ],\n",
       "       [ 1.        ,  1.96676341, -0.55975826],\n",
       "       [ 1.        , -0.80397999,  0.2676562 ],\n",
       "       [ 1.        , -0.22669468, -0.97415782],\n",
       "       [ 1.        , -0.45091867, -3.05202272],\n",
       "       [ 1.        ,  0.8535724 , -0.69244888],\n",
       "       [ 1.        , -1.318375  , -0.64138184]])"
      ]
     },
     "execution_count": 3,
     "metadata": {},
     "output_type": "execute_result"
    }
   ],
   "source": [
    "X = np.random.randn(10,3)\n",
    "X[:,0] = 1\n",
    "X"
   ]
  },
  {
   "cell_type": "code",
   "execution_count": 5,
   "metadata": {},
   "outputs": [],
   "source": [
    "beta = np.random.randn(3)"
   ]
  },
  {
   "cell_type": "code",
   "execution_count": 9,
   "metadata": {},
   "outputs": [],
   "source": [
    "sigma = 1.0"
   ]
  },
  {
   "cell_type": "code",
   "execution_count": 10,
   "metadata": {},
   "outputs": [],
   "source": [
    "epsilon = np.random.randn(10) * sigma\n",
    "\n",
    "Y = X @ beta + epsilon"
   ]
  },
  {
   "cell_type": "code",
   "execution_count": 11,
   "metadata": {},
   "outputs": [
    {
     "name": "stderr",
     "output_type": "stream",
     "text": [
      "C:\\Users\\yiyuezhuo\\AppData\\Roaming\\Python\\Python36\\site-packages\\scipy\\stats\\stats.py:1450: UserWarning: kurtosistest only valid for n>=20 ... continuing anyway, n=10\n",
      "  \"anyway, n=%i\" % int(n))\n"
     ]
    },
    {
     "data": {
      "text/html": [
       "<table class=\"simpletable\">\n",
       "<caption>OLS Regression Results</caption>\n",
       "<tr>\n",
       "  <th>Dep. Variable:</th>            <td>y</td>        <th>  R-squared:         </th> <td>   0.580</td>\n",
       "</tr>\n",
       "<tr>\n",
       "  <th>Model:</th>                   <td>OLS</td>       <th>  Adj. R-squared:    </th> <td>   0.460</td>\n",
       "</tr>\n",
       "<tr>\n",
       "  <th>Method:</th>             <td>Least Squares</td>  <th>  F-statistic:       </th> <td>   4.839</td>\n",
       "</tr>\n",
       "<tr>\n",
       "  <th>Date:</th>             <td>Wed, 13 Nov 2019</td> <th>  Prob (F-statistic):</th>  <td>0.0479</td> \n",
       "</tr>\n",
       "<tr>\n",
       "  <th>Time:</th>                 <td>18:18:29</td>     <th>  Log-Likelihood:    </th> <td> -13.744</td>\n",
       "</tr>\n",
       "<tr>\n",
       "  <th>No. Observations:</th>      <td>    10</td>      <th>  AIC:               </th> <td>   33.49</td>\n",
       "</tr>\n",
       "<tr>\n",
       "  <th>Df Residuals:</th>          <td>     7</td>      <th>  BIC:               </th> <td>   34.40</td>\n",
       "</tr>\n",
       "<tr>\n",
       "  <th>Df Model:</th>              <td>     2</td>      <th>                     </th>     <td> </td>   \n",
       "</tr>\n",
       "<tr>\n",
       "  <th>Covariance Type:</th>      <td>nonrobust</td>    <th>                     </th>     <td> </td>   \n",
       "</tr>\n",
       "</table>\n",
       "<table class=\"simpletable\">\n",
       "<tr>\n",
       "    <td></td>       <th>coef</th>     <th>std err</th>      <th>t</th>      <th>P>|t|</th>  <th>[0.025</th>    <th>0.975]</th>  \n",
       "</tr>\n",
       "<tr>\n",
       "  <th>const</th> <td>    0.5423</td> <td>    0.423</td> <td>    1.282</td> <td> 0.241</td> <td>   -0.458</td> <td>    1.542</td>\n",
       "</tr>\n",
       "<tr>\n",
       "  <th>x1</th>    <td>    0.8159</td> <td>    0.345</td> <td>    2.362</td> <td> 0.050</td> <td>   -0.001</td> <td>    1.633</td>\n",
       "</tr>\n",
       "<tr>\n",
       "  <th>x2</th>    <td>   -0.6110</td> <td>    0.356</td> <td>   -1.717</td> <td> 0.130</td> <td>   -1.452</td> <td>    0.230</td>\n",
       "</tr>\n",
       "</table>\n",
       "<table class=\"simpletable\">\n",
       "<tr>\n",
       "  <th>Omnibus:</th>       <td> 1.996</td> <th>  Durbin-Watson:     </th> <td>   2.534</td>\n",
       "</tr>\n",
       "<tr>\n",
       "  <th>Prob(Omnibus):</th> <td> 0.369</td> <th>  Jarque-Bera (JB):  </th> <td>   0.318</td>\n",
       "</tr>\n",
       "<tr>\n",
       "  <th>Skew:</th>          <td>-0.399</td> <th>  Prob(JB):          </th> <td>   0.853</td>\n",
       "</tr>\n",
       "<tr>\n",
       "  <th>Kurtosis:</th>      <td> 3.354</td> <th>  Cond. No.          </th> <td>    1.87</td>\n",
       "</tr>\n",
       "</table><br/><br/>Warnings:<br/>[1] Standard Errors assume that the covariance matrix of the errors is correctly specified."
      ],
      "text/plain": [
       "<class 'statsmodels.iolib.summary.Summary'>\n",
       "\"\"\"\n",
       "                            OLS Regression Results                            \n",
       "==============================================================================\n",
       "Dep. Variable:                      y   R-squared:                       0.580\n",
       "Model:                            OLS   Adj. R-squared:                  0.460\n",
       "Method:                 Least Squares   F-statistic:                     4.839\n",
       "Date:                Wed, 13 Nov 2019   Prob (F-statistic):             0.0479\n",
       "Time:                        18:18:29   Log-Likelihood:                -13.744\n",
       "No. Observations:                  10   AIC:                             33.49\n",
       "Df Residuals:                       7   BIC:                             34.40\n",
       "Df Model:                           2                                         \n",
       "Covariance Type:            nonrobust                                         \n",
       "==============================================================================\n",
       "                 coef    std err          t      P>|t|      [0.025      0.975]\n",
       "------------------------------------------------------------------------------\n",
       "const          0.5423      0.423      1.282      0.241      -0.458       1.542\n",
       "x1             0.8159      0.345      2.362      0.050      -0.001       1.633\n",
       "x2            -0.6110      0.356     -1.717      0.130      -1.452       0.230\n",
       "==============================================================================\n",
       "Omnibus:                        1.996   Durbin-Watson:                   2.534\n",
       "Prob(Omnibus):                  0.369   Jarque-Bera (JB):                0.318\n",
       "Skew:                          -0.399   Prob(JB):                        0.853\n",
       "Kurtosis:                       3.354   Cond. No.                         1.87\n",
       "==============================================================================\n",
       "\n",
       "Warnings:\n",
       "[1] Standard Errors assume that the covariance matrix of the errors is correctly specified.\n",
       "\"\"\""
      ]
     },
     "execution_count": 11,
     "metadata": {},
     "output_type": "execute_result"
    }
   ],
   "source": [
    "mod = sm.OLS(Y,X)\n",
    "res = mod.fit()\n",
    "res.summary()"
   ]
  },
  {
   "cell_type": "code",
   "execution_count": 12,
   "metadata": {},
   "outputs": [],
   "source": [
    "def exper(sigma, num_sample=1000):\n",
    "    r_list = []\n",
    "    for i in range(num_sample):\n",
    "        epsilon = np.random.randn(10) * sigma\n",
    "        Y = X @ beta + epsilon\n",
    "\n",
    "        mod = sm.OLS(Y,X)\n",
    "        res = mod.fit()\n",
    "        r_list.append(res.rsquared)\n",
    "    return r_list"
   ]
  },
  {
   "cell_type": "code",
   "execution_count": 29,
   "metadata": {},
   "outputs": [],
   "source": [
    "rl = [1.,0.9,0.8,0.7,0.6,0.5,0.4,0.3,0.2,0.1]"
   ]
  },
  {
   "cell_type": "code",
   "execution_count": 31,
   "metadata": {},
   "outputs": [],
   "source": [
    "rd = {r:exper(r) for r in rl}"
   ]
  },
  {
   "cell_type": "code",
   "execution_count": 37,
   "metadata": {},
   "outputs": [
    {
     "data": {
      "text/plain": [
       "(array([ 0.42089054,  0.        ,  0.        ,  1.26267161,  1.26267161,\n",
       "         0.84178107,  2.52534322,  2.94623376,  5.05068645,  5.47157699,\n",
       "         7.99692021,  7.99692021, 22.72808902, 13.46849719, 37.03836728,\n",
       "        29.88322815, 33.67124299, 41.66816319, 50.08597394, 51.76953609,\n",
       "        46.71884964, 31.98768084, 20.20274579,  5.89246752]),\n",
       " array([0.94229677, 0.94467268, 0.9470486 , 0.94942451, 0.95180043,\n",
       "        0.95417634, 0.95655226, 0.95892817, 0.96130409, 0.96368   ,\n",
       "        0.96605592, 0.96843183, 0.97080775, 0.97318366, 0.97555958,\n",
       "        0.97793549, 0.9803114 , 0.98268732, 0.98506323, 0.98743915,\n",
       "        0.98981506, 0.99219098, 0.99456689, 0.99694281, 0.99931872]),\n",
       " <a list of 24 Patch objects>)"
      ]
     },
     "execution_count": 37,
     "metadata": {},
     "output_type": "execute_result"
    },
    {
     "data": {
      "image/png": "[encoded data removed]",
      "text/plain": [
       "<Figure size 432x288 with 1 Axes>"
      ]
     },
     "metadata": {},
     "output_type": "display_data"
    }
   ],
   "source": [
    "plt.hist(rd[1.], bins= 'auto', density=True,alpha=0.5)\n",
    "plt.hist(rd[0.6], bins= 'auto', density=True,alpha=0.5)\n",
    "plt.hist(rd[0.2], bins= 'auto', density=True,alpha=0.5)"
   ]
  },
  {
   "cell_type": "code",
   "execution_count": 38,
   "metadata": {},
   "outputs": [],
   "source": [
    "x = np.arange(10)\n",
    "def exper2(p2, sigma=1., num_sample=1000):\n",
    "    beta = np.array([1., 1., p2])\n",
    "    X = np.c_[np.ones(10), x, x**2]\n",
    "    \n",
    "    r_list = []\n",
    "    \n",
    "    for i in range(num_sample):\n",
    "        epsilon = np.random.randn(10) * sigma\n",
    "        Y = X @ beta + epsilon\n",
    "        mod = sm.OLS(Y, X)\n",
    "        res = mod.fit()\n",
    "        r_list.append(res.rsquared)\n",
    "        \n",
    "    return r_list"
   ]
  },
  {
   "cell_type": "code",
   "execution_count": 44,
   "metadata": {},
   "outputs": [],
   "source": [
    "rl2 = np.linspace(0,2,20)\n",
    "rd2 = {r:exper2(r) for r in rl2}"
   ]
  },
  {
   "cell_type": "code",
   "execution_count": 54,
   "metadata": {},
   "outputs": [
    {
     "data": {
      "text/plain": [
       "(array([  3.0235053 ,   0.        ,   0.        ,   6.0470106 ,\n",
       "          0.        ,   0.        ,   3.0235053 ,   6.0470106 ,\n",
       "          9.07051589,   6.0470106 ,  12.09402119,  27.21154768,\n",
       "         21.16453709,  39.30556887,  51.39959007,  63.49361126,\n",
       "         78.61113775,  99.77567484,  87.68165364, 211.64537086,\n",
       "        211.64537086, 281.18599272, 314.444551  , 317.46805629,\n",
       "        383.98517285, 281.18599272, 272.11547682, 181.41031788,\n",
       "         54.42309536]),\n",
       " array([0.99019294, 0.99052368, 0.99085442, 0.99118516, 0.9915159 ,\n",
       "        0.99184665, 0.99217739, 0.99250813, 0.99283887, 0.99316961,\n",
       "        0.99350036, 0.9938311 , 0.99416184, 0.99449258, 0.99482332,\n",
       "        0.99515407, 0.99548481, 0.99581555, 0.99614629, 0.99647703,\n",
       "        0.99680777, 0.99713852, 0.99746926, 0.9978    , 0.99813074,\n",
       "        0.99846148, 0.99879223, 0.99912297, 0.99945371, 0.99978445]),\n",
       " <a list of 29 Patch objects>)"
      ]
     },
     "execution_count": 54,
     "metadata": {},
     "output_type": "execute_result"
    },
    {
     "data": {
      "image/png": "[encoded data removed]",
      "text/plain": [
       "<Figure size 432x288 with 1 Axes>"
      ]
     },
     "metadata": {},
     "output_type": "display_data"
    }
   ],
   "source": [
    "plt.hist(rd2[rl2[-1]], bins= 'auto', density=True,alpha=0.5)\n",
    "plt.hist(rd2[rl2[-10]], bins= 'auto', density=True,alpha=0.5)\n",
    "plt.hist(rd2[rl2[-15]], bins= 'auto', density=True,alpha=0.5)"
   ]
  },
  {
   "cell_type": "code",
   "execution_count": 55,
   "metadata": {},
   "outputs": [
    {
     "data": {
      "text/plain": [
       "(2.0, 1.0526315789473684, 0.5263157894736842)"
      ]
     },
     "execution_count": 55,
     "metadata": {},
     "output_type": "execute_result"
    }
   ],
   "source": [
    "rl2[-1], rl2[-10], rl2[-15]"
   ]
  },
  {
   "cell_type": "code",
   "execution_count": 56,
   "metadata": {},
   "outputs": [
    {
     "data": {
      "text/plain": [
       "(0.9997765011334299, 0.999260442378722, 0.997544825729865)"
      ]
     },
     "execution_count": 56,
     "metadata": {},
     "output_type": "execute_result"
    }
   ],
   "source": [
    "np.mean(rd2[rl2[-1]]), np.mean(rd2[rl2[-10]]), np.mean(rd2[rl2[-15]])"
   ]
  },
  {
   "cell_type": "code",
   "execution_count": 57,
   "metadata": {},
   "outputs": [],
   "source": [
    " np.convolve?"
   ]
  },
  {
   "cell_type": "code",
   "execution_count": 59,
   "metadata": {},
   "outputs": [
    {
     "data": {
      "text/plain": [
       "<matplotlib.lines.Line2D at 0x2215505f668>"
      ]
     },
     "execution_count": 59,
     "metadata": {},
     "output_type": "execute_result"
    },
    {
     "data": {
      "image/png": "[encoded data removed]",
      "text/plain": [
       "<Figure size 432x288 with 1 Axes>"
      ]
     },
     "metadata": {},
     "output_type": "display_data"
    }
   ],
   "source": [
    "Y = np.random.randn(30)\n",
    "Y = np.convolve(Y, np.ones(3))\n",
    "plt.plot(Y)\n",
    "plt.axhline(np.mean(Y))"
   ]
  },
  {
   "cell_type": "code",
   "execution_count": 60,
   "metadata": {},
   "outputs": [
    {
     "data": {
      "text/plain": [
       "<matplotlib.lines.Line2D at 0x221550b71d0>"
      ]
     },
     "execution_count": 60,
     "metadata": {},
     "output_type": "execute_result"
    },
    {
     "data": {
      "image/png": "[encoded data removed]",
      "text/plain": [
       "<Figure size 432x288 with 1 Axes>"
      ]
     },
     "metadata": {},
     "output_type": "display_data"
    }
   ],
   "source": [
    "Y = np.linspace(2,10)**2\n",
    "plt.plot(Y)\n",
    "plt.axhline(np.mean(Y))"
   ]
  },
  {
   "cell_type": "code",
   "execution_count": null,
   "metadata": {},
   "outputs": [],
   "source": []
  }
 ],
 "metadata": {
  "kernelspec": {
   "display_name": "Python 3",
   "language": "python",
   "name": "python3"
  },
  "language_info": {
   "codemirror_mode": {
    "name": "ipython",
    "version": 3
   },
   "file_extension": ".py",
   "mimetype": "text/x-python",
   "name": "python",
   "nbconvert_exporter": "python",
   "pygments_lexer": "ipython3",
   "version": "3.6.5"
  }
 },
 "nbformat": 4,
 "nbformat_minor": 2
}
