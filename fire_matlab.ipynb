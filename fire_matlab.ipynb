{
 "cells": [
  {
   "cell_type": "code",
   "execution_count": 57,
   "metadata": {},
   "outputs": [
    {
     "name": "stdout",
     "output_type": "stream",
     "text": [
      "\n"
     ]
    }
   ],
   "source": [
    "x0 = 1000.0;\n",
    "y0 = 0.0;"
   ]
  },
  {
   "cell_type": "code",
   "execution_count": 68,
   "metadata": {},
   "outputs": [
    {
     "name": "stdout",
     "output_type": "stream",
     "text": [
      "     1     1\n",
      "\n",
      "    1.0000    1.0000\n",
      "\n",
      "    1.0000    1.0000\n",
      "\n",
      "    0.4549    0.5020\n",
      "\n",
      "    0.4549    0.5020\n",
      "\n",
      "    0.4549    0.5020\n",
      "\n",
      "    0.3404    0.3046\n",
      "\n",
      "    0.3404    0.3046\n",
      "\n",
      "    0.3404    0.3046\n",
      "\n",
      "    0.3326    0.2535\n",
      "\n",
      "    0.3326    0.2535\n",
      "\n",
      "    0.3326    0.2535\n",
      "\n",
      "    0.3326    0.2527\n",
      "\n",
      "    0.3326    0.2527\n",
      "\n",
      "    0.3326    0.2527\n",
      "\n",
      "    0.3326    0.2527\n",
      "\n",
      "    0.3326    0.2527\n",
      "\n",
      "    0.3326    0.2527\n",
      "\n",
      "\n",
      "Equation solved.\n",
      "\n",
      "fsolve completed because the vector of function values is near zero\n",
      "as measured by the default value of the function tolerance, and\n",
      "the problem appears regular as measured by the gradient.\n",
      "\n",
      "\n",
      "\n",
      "\n"
     ]
    }
   ],
   "source": [
    "fun = @(p) equ(p,x0,y0);\n",
    "%options = optimset('Display','off');\n",
    "\n",
    "%[t, theta] = fsolve(fun, [1. 1.], options);\n",
    "[t, theta] = fsolve(fun, [1. 1.]);"
   ]
  },
  {
   "cell_type": "code",
   "execution_count": 71,
   "metadata": {},
   "outputs": [
    {
     "name": "stdout",
     "output_type": "stream",
     "text": [
      "\n",
      "ans =\n",
      "\n",
      "   49.8827   37.9020\n",
      "\n",
      "\n"
     ]
    }
   ],
   "source": [
    "300*sin(pi/6).*t+y0 - 600*sin(theta).*t"
   ]
  },
  {
   "cell_type": "code",
   "execution_count": 88,
   "metadata": {},
   "outputs": [
    {
     "name": "stdout",
     "output_type": "stream",
     "text": [
      "\n",
      "ans =\n",
      "\n",
      "  714.0698  782.7436\n",
      "\n",
      "\n"
     ]
    }
   ],
   "source": [
    "-300*cos(pi/6).*t+x0 - 600*cos(theta).*t"
   ]
  },
  {
   "cell_type": "code",
   "execution_count": 86,
   "metadata": {},
   "outputs": [
    {
     "name": "stdout",
     "output_type": "stream",
     "text": [
      "\n",
      "ans =\n",
      "\n",
      "  913.6006  934.3517\n",
      "\n",
      "\n"
     ]
    }
   ],
   "source": [
    "-300*cos(pi/6).*t+x0"
   ]
  },
  {
   "cell_type": "code",
   "execution_count": 79,
   "metadata": {},
   "outputs": [
    {
     "name": "stdout",
     "output_type": "stream",
     "text": [
      "\n",
      "t =\n",
      "\n",
      "    0.3326    0.2527\n",
      "\n",
      "\n"
     ]
    }
   ],
   "source": [
    "t"
   ]
  },
  {
   "cell_type": "code",
   "execution_count": 80,
   "metadata": {},
   "outputs": [
    {
     "name": "stdout",
     "output_type": "stream",
     "text": [
      "\n",
      "ans =\n",
      "\n",
      "   600   600\n",
      "\n",
      "\n"
     ]
    }
   ],
   "source": [
    "600*cos(theta)"
   ]
  },
  {
   "cell_type": "code",
   "execution_count": null,
   "metadata": {},
   "outputs": [],
   "source": []
  }
 ],
 "metadata": {
  "kernelspec": {
   "display_name": "Matlab",
   "language": "matlab",
   "name": "matlab"
  },
  "language_info": {
   "codemirror_mode": "octave",
   "file_extension": ".m",
   "help_links": [
    {
     "text": "MetaKernel Magics",
     "url": "https://github.com/calysto/metakernel/blob/master/metakernel/magics/README.md"
    }
   ],
   "mimetype": "text/x-octave",
   "name": "matlab",
   "version": "0.15.1"
  }
 },
 "nbformat": 4,
 "nbformat_minor": 2
}
