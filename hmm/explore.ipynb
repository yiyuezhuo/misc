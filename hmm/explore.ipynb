{
 "cells": [
  {
   "cell_type": "code",
   "execution_count": 6,
   "metadata": {},
   "outputs": [],
   "source": [
    "dat_path = \"DCAS.VN.EXT08.DAT\"\n",
    "\n",
    "with open(dat_path) as f:\n",
    "    lines = f.readlines()"
   ]
  },
  {
   "cell_type": "code",
   "execution_count": 7,
   "metadata": {},
   "outputs": [
    {
     "data": {
      "text/plain": [
       "'503503584|Y|S|SELECTED SERVICE|AADLAND GERALD L|A|ARMY|SP4|E04|11B|INFANTRYMAN|19450329|M|SISSETON|ROBERTS|US|SD|SOUTH DAKOTA|NEVER MARRIED|LUTHERAN CHURCHES|LL|WHITE|NOT SPECIFIED|WHITE|UNKNOWN||KONTUM|M2|VS|ASIA|SOUTH VIETNAM|D CO 3 BN 12 INF 4 INF DIV|Z|19680501|19680530|1968|V|C|VIETNAM CONFLICT|SOUTHEAST ASIA|19680530||H|DECEASED|KILLED IN ACTION|SMALL ARMS FIRE||Y|BURIED - UNKNOWN DISP|63W 014|||||\\n'"
      ]
     },
     "execution_count": 7,
     "metadata": {},
     "output_type": "execute_result"
    }
   ],
   "source": [
    "lines[0]"
   ]
  },
  {
   "cell_type": "code",
   "execution_count": 10,
   "metadata": {},
   "outputs": [
    {
     "data": {
      "text/plain": [
       "['503503584',\n",
       " 'Y',\n",
       " 'S',\n",
       " 'SELECTED SERVICE',\n",
       " 'AADLAND GERALD L',\n",
       " 'A',\n",
       " 'ARMY',\n",
       " 'SP4',\n",
       " 'E04',\n",
       " '11B',\n",
       " 'INFANTRYMAN',\n",
       " '19450329',\n",
       " 'M',\n",
       " 'SISSETON',\n",
       " 'ROBERTS',\n",
       " 'US',\n",
       " 'SD',\n",
       " 'SOUTH DAKOTA',\n",
       " 'NEVER MARRIED',\n",
       " 'LUTHERAN CHURCHES',\n",
       " 'LL',\n",
       " 'WHITE',\n",
       " 'NOT SPECIFIED',\n",
       " 'WHITE',\n",
       " 'UNKNOWN',\n",
       " '',\n",
       " 'KONTUM',\n",
       " 'M2',\n",
       " 'VS',\n",
       " 'ASIA',\n",
       " 'SOUTH VIETNAM',\n",
       " 'D CO 3 BN 12 INF 4 INF DIV',\n",
       " 'Z',\n",
       " '19680501',\n",
       " '19680530',\n",
       " '1968',\n",
       " 'V',\n",
       " 'C',\n",
       " 'VIETNAM CONFLICT',\n",
       " 'SOUTHEAST ASIA',\n",
       " '19680530',\n",
       " '',\n",
       " 'H',\n",
       " 'DECEASED',\n",
       " 'KILLED IN ACTION',\n",
       " 'SMALL ARMS FIRE',\n",
       " '',\n",
       " 'Y',\n",
       " 'BURIED - UNKNOWN DISP',\n",
       " '63W 014',\n",
       " '',\n",
       " '',\n",
       " '',\n",
       " '',\n",
       " '']"
      ]
     },
     "execution_count": 10,
     "metadata": {},
     "output_type": "execute_result"
    }
   ],
   "source": [
    "lines[0].strip().split(\"|\")"
   ]
  },
  {
   "cell_type": "code",
   "execution_count": 12,
   "metadata": {},
   "outputs": [],
   "source": [
    "from collections import Counter"
   ]
  },
  {
   "cell_type": "code",
   "execution_count": 13,
   "metadata": {},
   "outputs": [
    {
     "data": {
      "text/plain": [
       "Counter({55: 58220})"
      ]
     },
     "execution_count": 13,
     "metadata": {},
     "output_type": "execute_result"
    }
   ],
   "source": [
    "Counter([len(lines[0].strip().split(\"|\")) for line in lines])"
   ]
  },
  {
   "cell_type": "code",
   "execution_count": 14,
   "metadata": {},
   "outputs": [],
   "source": [
    "mat = [line.strip().split(\"|\") for line in lines]"
   ]
  },
  {
   "cell_type": "code",
   "execution_count": 15,
   "metadata": {},
   "outputs": [
    {
     "data": {
      "text/plain": [
       "['503503584',\n",
       " 'Y',\n",
       " 'S',\n",
       " 'SELECTED SERVICE',\n",
       " 'AADLAND GERALD L',\n",
       " 'A',\n",
       " 'ARMY',\n",
       " 'SP4',\n",
       " 'E04',\n",
       " '11B',\n",
       " 'INFANTRYMAN',\n",
       " '19450329',\n",
       " 'M',\n",
       " 'SISSETON',\n",
       " 'ROBERTS',\n",
       " 'US',\n",
       " 'SD',\n",
       " 'SOUTH DAKOTA',\n",
       " 'NEVER MARRIED',\n",
       " 'LUTHERAN CHURCHES',\n",
       " 'LL',\n",
       " 'WHITE',\n",
       " 'NOT SPECIFIED',\n",
       " 'WHITE',\n",
       " 'UNKNOWN',\n",
       " '',\n",
       " 'KONTUM',\n",
       " 'M2',\n",
       " 'VS',\n",
       " 'ASIA',\n",
       " 'SOUTH VIETNAM',\n",
       " 'D CO 3 BN 12 INF 4 INF DIV',\n",
       " 'Z',\n",
       " '19680501',\n",
       " '19680530',\n",
       " '1968',\n",
       " 'V',\n",
       " 'C',\n",
       " 'VIETNAM CONFLICT',\n",
       " 'SOUTHEAST ASIA',\n",
       " '19680530',\n",
       " '',\n",
       " 'H',\n",
       " 'DECEASED',\n",
       " 'KILLED IN ACTION',\n",
       " 'SMALL ARMS FIRE',\n",
       " '',\n",
       " 'Y',\n",
       " 'BURIED - UNKNOWN DISP',\n",
       " '63W 014',\n",
       " '',\n",
       " '',\n",
       " '',\n",
       " '',\n",
       " '']"
      ]
     },
     "execution_count": 15,
     "metadata": {},
     "output_type": "execute_result"
    }
   ],
   "source": [
    "mat[0]"
   ]
  },
  {
   "cell_type": "code",
   "execution_count": 16,
   "metadata": {},
   "outputs": [
    {
     "data": {
      "text/plain": [
       "34"
      ]
     },
     "execution_count": 16,
     "metadata": {},
     "output_type": "execute_result"
    }
   ],
   "source": [
    "mat[0].index(\"19680530\")"
   ]
  },
  {
   "cell_type": "code",
   "execution_count": 20,
   "metadata": {},
   "outputs": [
    {
     "data": {
      "text/plain": [
       "('19680501', '19680530')"
      ]
     },
     "execution_count": 20,
     "metadata": {},
     "output_type": "execute_result"
    }
   ],
   "source": [
    "mat[0][33],mat[0][34]"
   ]
  },
  {
   "cell_type": "code",
   "execution_count": 23,
   "metadata": {},
   "outputs": [
    {
     "data": {
      "text/plain": [
       "('19661201', '19661229')"
      ]
     },
     "execution_count": 23,
     "metadata": {},
     "output_type": "execute_result"
    }
   ],
   "source": [
    "mat[3][33],mat[3][34]"
   ]
  },
  {
   "cell_type": "code",
   "execution_count": 24,
   "metadata": {},
   "outputs": [],
   "source": [
    "death_date = [row[34] for row in mat]"
   ]
  },
  {
   "cell_type": "code",
   "execution_count": 34,
   "metadata": {},
   "outputs": [],
   "source": [
    "from datetime import date, timedelta"
   ]
  },
  {
   "cell_type": "code",
   "execution_count": 27,
   "metadata": {},
   "outputs": [
    {
     "data": {
      "text/plain": [
       "datetime.date(1995, 4, 13)"
      ]
     },
     "execution_count": 27,
     "metadata": {},
     "output_type": "execute_result"
    }
   ],
   "source": [
    "date(1995,4,13)"
   ]
  },
  {
   "cell_type": "code",
   "execution_count": 28,
   "metadata": {},
   "outputs": [
    {
     "data": {
      "text/plain": [
       "'20060528'"
      ]
     },
     "execution_count": 28,
     "metadata": {},
     "output_type": "execute_result"
    }
   ],
   "source": [
    "max(death_date)"
   ]
  },
  {
   "cell_type": "code",
   "execution_count": 29,
   "metadata": {},
   "outputs": [
    {
     "data": {
      "text/plain": [
       "'19560608'"
      ]
     },
     "execution_count": 29,
     "metadata": {},
     "output_type": "execute_result"
    }
   ],
   "source": [
    "min(death_date)"
   ]
  },
  {
   "cell_type": "code",
   "execution_count": 33,
   "metadata": {},
   "outputs": [
    {
     "data": {
      "text/plain": [
       "['19560608',\n",
       " '19571021',\n",
       " '19590708',\n",
       " '19590708',\n",
       " '19600217',\n",
       " '19600217',\n",
       " '19600217',\n",
       " '19600221',\n",
       " '19600831',\n",
       " '19610106',\n",
       " '19610323',\n",
       " '19610323',\n",
       " '19610323',\n",
       " '19610323',\n",
       " '19610323',\n",
       " '19610323',\n",
       " '19610323',\n",
       " '19610420',\n",
       " '19610422',\n",
       " '19610422',\n",
       " '19610422',\n",
       " '19610630',\n",
       " '19610810',\n",
       " '19610815',\n",
       " '19611222',\n",
       " '19620113',\n",
       " '19620113',\n",
       " '19620128',\n",
       " '19620202',\n",
       " '19620202']"
      ]
     },
     "execution_count": 33,
     "metadata": {},
     "output_type": "execute_result"
    }
   ],
   "source": [
    "sorted(death_date)[:30]"
   ]
  },
  {
   "cell_type": "code",
   "execution_count": 32,
   "metadata": {},
   "outputs": [
    {
     "data": {
      "text/plain": [
       "['19750513',\n",
       " '19750513',\n",
       " '19750513',\n",
       " '19750513',\n",
       " '19750513',\n",
       " '19750515',\n",
       " '19750515',\n",
       " '19750515',\n",
       " '19750515',\n",
       " '19750515',\n",
       " '19750515',\n",
       " '19750515',\n",
       " '19750515',\n",
       " '19750515',\n",
       " '19750515',\n",
       " '19750515',\n",
       " '19750515',\n",
       " '19750515',\n",
       " '19750515',\n",
       " '19750515',\n",
       " '19750515',\n",
       " '19750515',\n",
       " '19750515',\n",
       " '19870924',\n",
       " '19901114',\n",
       " '20040924',\n",
       " '20050228',\n",
       " '20050330',\n",
       " '20060105',\n",
       " '20060528']"
      ]
     },
     "execution_count": 32,
     "metadata": {},
     "output_type": "execute_result"
    }
   ],
   "source": [
    "sorted(death_date)[-30:]"
   ]
  },
  {
   "cell_type": "code",
   "execution_count": 35,
   "metadata": {},
   "outputs": [],
   "source": [
    "start_date = date(1961, 1, 1)\n",
    "end_date = date(1975, 4, 30)\n",
    "delta = timedelta(days=1)"
   ]
  },
  {
   "cell_type": "code",
   "execution_count": 36,
   "metadata": {},
   "outputs": [],
   "source": [
    "t = start_date\n",
    "i=0\n",
    "\n",
    "date_list = []\n",
    "date2idx = {}\n",
    "while t <= end_date:\n",
    "    s = t.strftime(\"%Y%m%d\")\n",
    "    date_list.append(s)\n",
    "    date2idx[s] = i\n",
    "    \n",
    "    i += 1\n",
    "    t += delta"
   ]
  },
  {
   "cell_type": "code",
   "execution_count": 41,
   "metadata": {},
   "outputs": [
    {
     "name": "stdout",
     "output_type": "stream",
     "text": [
      "Skip 19600217\n",
      "Skip 19750515\n",
      "Skip 19750513\n",
      "Skip 19750515\n",
      "Skip 19750515\n",
      "Skip 19590708\n",
      "Skip 19750513\n",
      "Skip 19750515\n",
      "Skip 19750513\n",
      "Skip 19571021\n",
      "Skip 19750502\n",
      "Skip 19750513\n",
      "Skip 19560608\n",
      "Skip 19600221\n",
      "Skip 19750513\n",
      "Skip 19750513\n",
      "Skip 19750513\n",
      "Skip 19750515\n",
      "Skip 19750515\n",
      "Skip 19750513\n",
      "Skip 20040924\n",
      "Skip 19750515\n",
      "Skip 19750513\n",
      "Skip 19750513\n",
      "Skip 19870924\n",
      "Skip 19750515\n",
      "Skip 19750513\n",
      "Skip 19750513\n",
      "Skip 19750515\n",
      "Skip 19750513\n",
      "Skip 19750513\n",
      "Skip 19750513\n",
      "Skip 19750515\n",
      "Skip 19750515\n",
      "Skip 19750515\n",
      "Skip 20060528\n",
      "Skip 19750513\n",
      "Skip 19750515\n",
      "Skip 19750513\n",
      "Skip 19750513\n",
      "Skip 19750513\n",
      "Skip 19600217\n",
      "Skip 20060105\n",
      "Skip 19750513\n",
      "Skip 19600217\n",
      "Skip 19590708\n",
      "Skip 20050228\n",
      "Skip 19750513\n",
      "Skip 19750515\n",
      "Skip 19901114\n",
      "Skip 19750513\n",
      "Skip 19750515\n",
      "Skip 19750515\n",
      "Skip 19600831\n",
      "Skip 20050330\n",
      "Skip 19750515\n",
      "Skip 19750515\n",
      "Skip 19750513\n"
     ]
    }
   ],
   "source": [
    "death_count = [0 for i in range(len(date_list))]\n",
    "\n",
    "for ts in death_date:\n",
    "    if ts not in date2idx:\n",
    "        print(\"Skip {}\".format(ts))\n",
    "        continue\n",
    "    death_count[date2idx[ts]] += 1"
   ]
  },
  {
   "cell_type": "code",
   "execution_count": 46,
   "metadata": {},
   "outputs": [],
   "source": [
    "import matplotlib.pyplot as plt\n",
    "import matplotlib.dates as mdates"
   ]
  },
  {
   "cell_type": "code",
   "execution_count": 43,
   "metadata": {},
   "outputs": [],
   "source": [
    "%matplotlib inline"
   ]
  },
  {
   "cell_type": "code",
   "execution_count": 55,
   "metadata": {},
   "outputs": [
    {
     "data": {
      "text/plain": [
       "[<matplotlib.lines.Line2D at 0x2449b63be80>]"
      ]
     },
     "execution_count": 55,
     "metadata": {},
     "output_type": "execute_result"
    },
    {
     "data": {
      "image/png": "[encoded data removed]",
      "text/plain": [
       "<Figure size 1152x648 with 1 Axes>"
      ]
     },
     "metadata": {},
     "output_type": "display_data"
    }
   ],
   "source": [
    "plt.figure(figsize=(16,9))\n",
    "x = mdates.drange(start_date, end_date + delta, delta)\n",
    "\n",
    "plt.gca().xaxis.set_major_formatter(mdates.DateFormatter('%Y-%m-%d'))\n",
    "plt.gca().xaxis.set_major_locator(mdates.DayLocator(interval=400))\n",
    "\n",
    "plt.plot(x, death_count)\n"
   ]
  },
  {
   "cell_type": "code",
   "execution_count": null,
   "metadata": {},
   "outputs": [],
   "source": []
  }
 ],
 "metadata": {
  "kernelspec": {
   "display_name": "Python 3",
   "language": "python",
   "name": "python3"
  },
  "language_info": {
   "codemirror_mode": {
    "name": "ipython",
    "version": 3
   },
   "file_extension": ".py",
   "mimetype": "text/x-python",
   "name": "python",
   "nbconvert_exporter": "python",
   "pygments_lexer": "ipython3",
   "version": "3.6.5"
  }
 },
 "nbformat": 4,
 "nbformat_minor": 2
}
